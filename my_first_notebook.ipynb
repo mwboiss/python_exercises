{
 "cells": [
  {
   "cell_type": "code",
   "execution_count": 2,
   "id": "97f531bb",
   "metadata": {},
   "outputs": [],
   "source": [
    "two = 1 + 1"
   ]
  },
  {
   "cell_type": "code",
   "execution_count": 3,
   "id": "0ee8354f",
   "metadata": {},
   "outputs": [
    {
     "name": "stdout",
     "output_type": "stream",
     "text": [
      "2\n"
     ]
    }
   ],
   "source": [
    "print(two)"
   ]
  },
  {
   "cell_type": "code",
   "execution_count": 13,
   "id": "f9b91fa8",
   "metadata": {},
   "outputs": [
    {
     "name": "stdout",
     "output_type": "stream",
     "text": [
      "Python in a  2 2\n"
     ]
    }
   ],
   "source": [
    "print('Python in a ', two, two)"
   ]
  },
  {
   "cell_type": "markdown",
   "id": "8e4d2874",
   "metadata": {},
   "source": [
    "Keyboard shortcuts for jupyter notebooks:\n",
    "\n",
    "shift + enter runs the current cell and then opens up a new one\n",
    "\n",
    "control + s saves the file\n",
    "\n",
    "escape + m changes the cell to a markdown\n",
    "\n",
    "escape + Y changes the cell to a code "
   ]
  }
 ],
 "metadata": {
  "kernelspec": {
   "display_name": "Python 3 (ipykernel)",
   "language": "python",
   "name": "python3"
  },
  "language_info": {
   "codemirror_mode": {
    "name": "ipython",
    "version": 3
   },
   "file_extension": ".py",
   "mimetype": "text/x-python",
   "name": "python",
   "nbconvert_exporter": "python",
   "pygments_lexer": "ipython3",
   "version": "3.9.7"
  }
 },
 "nbformat": 4,
 "nbformat_minor": 5
}
