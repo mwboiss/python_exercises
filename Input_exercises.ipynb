{
 "cells": [
  {
   "cell_type": "code",
   "execution_count": 8,
   "id": "96f2190e",
   "metadata": {},
   "outputs": [],
   "source": [
    "from function_exercises import get_letter_grade as gl"
   ]
  },
  {
   "cell_type": "code",
   "execution_count": 10,
   "id": "3516e0ad",
   "metadata": {},
   "outputs": [
    {
     "name": "stdout",
     "output_type": "stream",
     "text": [
      "A\n"
     ]
    }
   ],
   "source": [
    "gl(94)"
   ]
  },
  {
   "cell_type": "markdown",
   "id": "d7ecb6b9",
   "metadata": {},
   "source": [
    "How many different ways can you combine the letters from \"abc\" with the numbers 1, 2, and 3?"
   ]
  },
  {
   "cell_type": "code",
   "execution_count": 13,
   "id": "301fbfd4",
   "metadata": {},
   "outputs": [],
   "source": [
    "import itertools"
   ]
  },
  {
   "cell_type": "code",
   "execution_count": 40,
   "id": "59402efc",
   "metadata": {},
   "outputs": [],
   "source": [
    "def combine_let_num_count(let_num_list):\n",
    "    len_list = len(let_num_list) + 1\n",
    "    sum = 0\n",
    "    for num in range(1,len_list):\n",
    "        sum += len(list(itertools.combinations(let_num_list, num)))\n",
    "    return sum"
   ]
  },
  {
   "cell_type": "code",
   "execution_count": 41,
   "id": "4208b7f9",
   "metadata": {},
   "outputs": [
    {
     "data": {
      "text/plain": [
       "63"
      ]
     },
     "execution_count": 41,
     "metadata": {},
     "output_type": "execute_result"
    }
   ],
   "source": [
    "combine_let_num_count('abc123')"
   ]
  },
  {
   "cell_type": "code",
   "execution_count": 42,
   "id": "9595aba2",
   "metadata": {},
   "outputs": [],
   "source": [
    "def combine_let_num(let_num_list):\n",
    "    len_list = len(let_num_list) + 1\n",
    "    sum = []\n",
    "    for num in range(1,len_list):\n",
    "        sum.append(list(itertools.combinations(let_num_list, num)))\n",
    "    return sum"
   ]
  },
  {
   "cell_type": "code",
   "execution_count": 43,
   "id": "bd242ec1",
   "metadata": {},
   "outputs": [
    {
     "data": {
      "text/plain": [
       "[[('a',), ('b',), ('c',), ('1',), ('2',), ('3',)],\n",
       " [('a', 'b'),\n",
       "  ('a', 'c'),\n",
       "  ('a', '1'),\n",
       "  ('a', '2'),\n",
       "  ('a', '3'),\n",
       "  ('b', 'c'),\n",
       "  ('b', '1'),\n",
       "  ('b', '2'),\n",
       "  ('b', '3'),\n",
       "  ('c', '1'),\n",
       "  ('c', '2'),\n",
       "  ('c', '3'),\n",
       "  ('1', '2'),\n",
       "  ('1', '3'),\n",
       "  ('2', '3')],\n",
       " [('a', 'b', 'c'),\n",
       "  ('a', 'b', '1'),\n",
       "  ('a', 'b', '2'),\n",
       "  ('a', 'b', '3'),\n",
       "  ('a', 'c', '1'),\n",
       "  ('a', 'c', '2'),\n",
       "  ('a', 'c', '3'),\n",
       "  ('a', '1', '2'),\n",
       "  ('a', '1', '3'),\n",
       "  ('a', '2', '3'),\n",
       "  ('b', 'c', '1'),\n",
       "  ('b', 'c', '2'),\n",
       "  ('b', 'c', '3'),\n",
       "  ('b', '1', '2'),\n",
       "  ('b', '1', '3'),\n",
       "  ('b', '2', '3'),\n",
       "  ('c', '1', '2'),\n",
       "  ('c', '1', '3'),\n",
       "  ('c', '2', '3'),\n",
       "  ('1', '2', '3')],\n",
       " [('a', 'b', 'c', '1'),\n",
       "  ('a', 'b', 'c', '2'),\n",
       "  ('a', 'b', 'c', '3'),\n",
       "  ('a', 'b', '1', '2'),\n",
       "  ('a', 'b', '1', '3'),\n",
       "  ('a', 'b', '2', '3'),\n",
       "  ('a', 'c', '1', '2'),\n",
       "  ('a', 'c', '1', '3'),\n",
       "  ('a', 'c', '2', '3'),\n",
       "  ('a', '1', '2', '3'),\n",
       "  ('b', 'c', '1', '2'),\n",
       "  ('b', 'c', '1', '3'),\n",
       "  ('b', 'c', '2', '3'),\n",
       "  ('b', '1', '2', '3'),\n",
       "  ('c', '1', '2', '3')],\n",
       " [('a', 'b', 'c', '1', '2'),\n",
       "  ('a', 'b', 'c', '1', '3'),\n",
       "  ('a', 'b', 'c', '2', '3'),\n",
       "  ('a', 'b', '1', '2', '3'),\n",
       "  ('a', 'c', '1', '2', '3'),\n",
       "  ('b', 'c', '1', '2', '3')],\n",
       " [('a', 'b', 'c', '1', '2', '3')]]"
      ]
     },
     "execution_count": 43,
     "metadata": {},
     "output_type": "execute_result"
    }
   ],
   "source": [
    "combine_let_num('abc123')"
   ]
  },
  {
   "cell_type": "markdown",
   "id": "79fa96ab",
   "metadata": {},
   "source": [
    "How many different combinations are there of 2 letters from \"abcd\"?"
   ]
  },
  {
   "cell_type": "code",
   "execution_count": 44,
   "id": "c883769c",
   "metadata": {},
   "outputs": [
    {
     "data": {
      "text/plain": [
       "6"
      ]
     },
     "execution_count": 44,
     "metadata": {},
     "output_type": "execute_result"
    }
   ],
   "source": [
    "len(list(itertools.combinations(\"abcd\", 2)))"
   ]
  },
  {
   "cell_type": "markdown",
   "id": "19240b37",
   "metadata": {},
   "source": [
    "How many different permutations are there of 2 letters from \"abcd\"?"
   ]
  },
  {
   "cell_type": "code",
   "execution_count": 46,
   "id": "922ecd44",
   "metadata": {},
   "outputs": [
    {
     "data": {
      "text/plain": [
       "12"
      ]
     },
     "execution_count": 46,
     "metadata": {},
     "output_type": "execute_result"
    }
   ],
   "source": [
    "len(list(itertools.permutations('abcd',2)))"
   ]
  },
  {
   "cell_type": "markdown",
   "id": "97a18bd8",
   "metadata": {},
   "source": [
    "Save this file as profiles.json inside of your exercises directory (right click -> save file as...).\n",
    "\n",
    "Use the load function from the json module to open this file."
   ]
  },
  {
   "cell_type": "code",
   "execution_count": 106,
   "id": "e5fc4801",
   "metadata": {},
   "outputs": [],
   "source": [
    "import json"
   ]
  },
  {
   "cell_type": "code",
   "execution_count": 107,
   "id": "cab30753",
   "metadata": {},
   "outputs": [],
   "source": [
    "dict_from_json = json.load(open('profiles.json'))"
   ]
  },
  {
   "cell_type": "markdown",
   "id": "97def8f9",
   "metadata": {},
   "source": [
    "Your code should produce a list of dictionaries. Using this data, write some code that calculates and outputs the following information:"
   ]
  },
  {
   "cell_type": "markdown",
   "id": "892e5222",
   "metadata": {},
   "source": [
    "Total number of users"
   ]
  },
  {
   "cell_type": "code",
   "execution_count": 73,
   "id": "f40f4d4a",
   "metadata": {},
   "outputs": [
    {
     "data": {
      "text/plain": [
       "19"
      ]
     },
     "execution_count": 73,
     "metadata": {},
     "output_type": "execute_result"
    }
   ],
   "source": [
    "len(dict_from_json)"
   ]
  },
  {
   "cell_type": "markdown",
   "id": "01d849ca",
   "metadata": {},
   "source": [
    "Number of active users"
   ]
  },
  {
   "cell_type": "code",
   "execution_count": 60,
   "id": "4213dddd",
   "metadata": {
    "scrolled": true
   },
   "outputs": [
    {
     "name": "stdout",
     "output_type": "stream",
     "text": [
      "9\n"
     ]
    }
   ],
   "source": [
    "active_users = 0\n",
    "for user in dict_from_json:\n",
    "    if user['isActive'] == True:\n",
    "        active_users += 1\n",
    "print(active_users)"
   ]
  },
  {
   "cell_type": "markdown",
   "id": "a9d47523",
   "metadata": {},
   "source": [
    "Number of inactive users"
   ]
  },
  {
   "cell_type": "code",
   "execution_count": 61,
   "id": "df68f411",
   "metadata": {},
   "outputs": [
    {
     "name": "stdout",
     "output_type": "stream",
     "text": [
      "10\n"
     ]
    }
   ],
   "source": [
    "non_active_users = 0\n",
    "for user in dict_from_json:\n",
    "    if user['isActive'] == False:\n",
    "        non_active_users += 1\n",
    "print(non_active_users)"
   ]
  },
  {
   "cell_type": "markdown",
   "id": "69b7fc9e",
   "metadata": {},
   "source": [
    "Grand total of balances for all users"
   ]
  },
  {
   "cell_type": "code",
   "execution_count": 67,
   "id": "fd293eef",
   "metadata": {},
   "outputs": [
    {
     "name": "stdout",
     "output_type": "stream",
     "text": [
      "52667.02\n"
     ]
    }
   ],
   "source": [
    "total_balance = 0\n",
    "for user in dict_from_json:\n",
    "    total_balance += float(user[\"balance\"].replace('$', '').replace(',', ''))\n",
    "print(total_balance)    "
   ]
  },
  {
   "cell_type": "markdown",
   "id": "3dae4d13",
   "metadata": {},
   "source": [
    "Average balance per user"
   ]
  },
  {
   "cell_type": "code",
   "execution_count": 68,
   "id": "d55a69a6",
   "metadata": {},
   "outputs": [
    {
     "name": "stdout",
     "output_type": "stream",
     "text": [
      "2771.9484210526316\n"
     ]
    }
   ],
   "source": [
    "total_balance = 0\n",
    "avg_balance = 0\n",
    "for user in dict_from_json:\n",
    "    total_balance += float(user[\"balance\"].replace('$', '').replace(',', ''))\n",
    "    avg_balance = total_balance / len(dict_from_json)\n",
    "print(avg_balance)"
   ]
  },
  {
   "cell_type": "markdown",
   "id": "3b940011",
   "metadata": {},
   "source": [
    "User with the lowest balance"
   ]
  },
  {
   "cell_type": "code",
   "execution_count": 71,
   "id": "4f6aae1a",
   "metadata": {},
   "outputs": [
    {
     "name": "stdout",
     "output_type": "stream",
     "text": [
      "Avery Flynn\n",
      "1214.1\n"
     ]
    }
   ],
   "source": [
    "lowest_balance = float(dict_from_json[0]['balance'].replace('$', '').replace(',', ''))\n",
    "user_lowest_balance = ''\n",
    "for user in dict_from_json:\n",
    "    if float(user['balance'].replace('$', '').replace(',', '')) < lowest_balance:\n",
    "        lowest_balance = float(user['balance'].replace('$', '').replace(',', ''))\n",
    "        user_lowest_balance = user['name']\n",
    "\n",
    "print(user_lowest_balance)\n",
    "print(lowest_balance)"
   ]
  },
  {
   "cell_type": "markdown",
   "id": "a2ef8138",
   "metadata": {},
   "source": [
    "User with the highest balance"
   ]
  },
  {
   "cell_type": "code",
   "execution_count": 72,
   "id": "3c4c75ad",
   "metadata": {},
   "outputs": [
    {
     "name": "stdout",
     "output_type": "stream",
     "text": [
      "Fay Hammond\n",
      "3919.64\n"
     ]
    }
   ],
   "source": [
    "highest_balance = float(dict_from_json[0]['balance'].replace('$', '').replace(',', ''))\n",
    "user_highest_balance = ''\n",
    "for user in dict_from_json:\n",
    "    if float(user['balance'].replace('$', '').replace(',', '')) > highest_balance:\n",
    "        highest_balance = float(user['balance'].replace('$', '').replace(',', ''))\n",
    "        user_highest_balance = user['name']\n",
    "\n",
    "print(user_highest_balance)\n",
    "print(highest_balance)"
   ]
  },
  {
   "cell_type": "markdown",
   "id": "ace617a1",
   "metadata": {},
   "source": [
    "Most common favorite fruit"
   ]
  },
  {
   "cell_type": "code",
   "execution_count": 88,
   "id": "a37c20f9",
   "metadata": {},
   "outputs": [
    {
     "name": "stdout",
     "output_type": "stream",
     "text": [
      "strawberry\n",
      "9\n"
     ]
    }
   ],
   "source": [
    "fruits_list = []\n",
    "\n",
    "for fruits in dict_from_json:\n",
    "    fruits_list.append(fruits['favoriteFruit'])\n",
    "    \n",
    "for fruit in fruits_list:\n",
    "    most_common = 0\n",
    "    if fruits_list.count(fruit) > most_common:\n",
    "        most_common = fruits_list.count(fruit)\n",
    "        most_common_fruit = fruit\n",
    "\n",
    "print(most_common_fruit)        \n",
    "print(most_common)"
   ]
  },
  {
   "cell_type": "markdown",
   "id": "6afb646a",
   "metadata": {},
   "source": [
    "Least most common favorite fruit"
   ]
  },
  {
   "cell_type": "code",
   "execution_count": 97,
   "id": "3cb84331",
   "metadata": {},
   "outputs": [
    {
     "name": "stdout",
     "output_type": "stream",
     "text": [
      "apple\n",
      "4\n"
     ]
    }
   ],
   "source": [
    "fruits_list = []\n",
    "\n",
    "for fruits in dict_from_json:\n",
    "    fruits_list.append(fruits['favoriteFruit'])\n",
    "\n",
    "least_common = fruits_list.count(fruits_list[0])\n",
    "\n",
    "for fruit in fruits_list:\n",
    "    if fruits_list.count(fruit) < least_common:\n",
    "        least_common = fruits_list.count(fruit)\n",
    "        least_common_fruit = fruit\n",
    "\n",
    "print(least_common_fruit)        \n",
    "print(least_common)"
   ]
  },
  {
   "cell_type": "markdown",
   "id": "9e4ac804",
   "metadata": {},
   "source": [
    "Total number of unread messages for all users"
   ]
  },
  {
   "cell_type": "code",
   "execution_count": 131,
   "id": "b7febd6f",
   "metadata": {},
   "outputs": [
    {
     "name": "stdout",
     "output_type": "stream",
     "text": [
      "210\n"
     ]
    }
   ],
   "source": [
    "list_of_messages = []\n",
    "message_number = ''\n",
    "total = 0\n",
    "\n",
    "for user in dict_from_json:\n",
    "    message = user['greeting']\n",
    "    message_number = ''\n",
    "\n",
    "    for character in message:\n",
    "        if character.isdigit():\n",
    "            message_number += character\n",
    "    \n",
    "    list_of_messages.append(message_number)\n",
    "\n",
    "for num in list_of_messages:\n",
    "    total += int(num)\n",
    "\n",
    "print(total)"
   ]
  },
  {
   "cell_type": "code",
   "execution_count": null,
   "id": "fd8213ed",
   "metadata": {},
   "outputs": [],
   "source": []
  }
 ],
 "metadata": {
  "kernelspec": {
   "display_name": "Python 3 (ipykernel)",
   "language": "python",
   "name": "python3"
  },
  "language_info": {
   "codemirror_mode": {
    "name": "ipython",
    "version": 3
   },
   "file_extension": ".py",
   "mimetype": "text/x-python",
   "name": "python",
   "nbconvert_exporter": "python",
   "pygments_lexer": "ipython3",
   "version": "3.9.7"
  }
 },
 "nbformat": 4,
 "nbformat_minor": 5
}
